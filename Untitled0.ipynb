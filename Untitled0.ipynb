{
  "nbformat": 4,
  "nbformat_minor": 0,
  "metadata": {
    "colab": {
      "provenance": []
    },
    "kernelspec": {
      "name": "python3",
      "display_name": "Python 3"
    },
    "language_info": {
      "name": "python"
    }
  },
  "cells": [
    {
      "cell_type": "markdown",
      "source": [
        "**linux assignment question answer**\n",
        "* Name: Upkar\n",
        "* course name : Devops and cloud computing\n",
        "* Assignment : Linux\n",
        "* Submission date : 30th of may , 2025"
      ],
      "metadata": {
        "id": "72eSvzBGNINI"
      }
    },
    {
      "cell_type": "markdown",
      "source": [
        "* W**hat is linux?**\n",
        "->Linux is free and open source operating system that is flexible and secure\n",
        "->It is faster than other operating system\n",
        "->It is a open source operating system which attracts others developers to see or modify the source code  \n"
      ],
      "metadata": {
        "id": "IXMtgfoRNwL2"
      }
    },
    {
      "cell_type": "markdown",
      "source": [
        "* **what is the difference between hard link and soft link?**\n",
        "\n",
        "**Hard lin**k :\n",
        "* The hard link act as a copy of the selected file\n",
        "* It can access the data of the file\n",
        "* The inode number is same\n",
        "* The command used to create hard link is 'ln'\n",
        "* It consumes less memory\n",
        "* If the files is deleted you can access the file data with the hard link\n",
        "\n",
        "S**oft link** :  \n",
        "* The soft link act as a reference or pointer to the file name\n",
        "* It doesn't access the data available of the original file\n",
        "* The inode number is not same\n",
        "* The command used to create a soft link is 'ln s'\n",
        "* It consumes more memory\n",
        "* If the file is deleted you cannot access the file data and also the link become invalid\n"
      ],
      "metadata": {
        "id": "PTnYO-XTRIOJ"
      }
    },
    {
      "cell_type": "markdown",
      "source": [
        "**What is kernel in linux ?**\n",
        "* A kernel is a core of an operating system and it act as a bridge between software and hardware\n",
        "* It is also responsible for process management , device management , system management , memory management .\n",
        "*  Ensure efficient and secure multitasking\n",
        "*  Manage system resource and prevent unauthorised resources access\n"
      ],
      "metadata": {
        "id": "8CVzPOGhnDB7"
      }
    },
    {
      "cell_type": "markdown",
      "source": [
        "How do you create a user account?\n",
        "\n",
        "* linux is a multi-user system , meaning multiple user can interact with the same system simultaneously so it is suited to create user account for them to make sure their privacy and security.\n",
        "linux offer a command \"useradd\" to create user.\n",
        "The syntax for this command is ,\n",
        "useradd [option] USERNAME\n",
        "Only root or user with sudo privilage can create a user account with this command.\n"
      ],
      "metadata": {
        "id": "LLOvWTwFrD_9"
      }
    },
    {
      "cell_type": "markdown",
      "source": [
        "**What is the ‘grep’ command used for in Linux?**\n",
        "\n",
        "* The grep command in linux is a powerfull command for searching and manipulating text pattern within files.it is derived from ed(editor) command g/re/p (globally searches for a regular expression and print matching lines) which reflect its functionality . Grep is widely used by programmer , system administrator for its efficiently handling the data\n",
        "\n"
      ],
      "metadata": {
        "id": "sSKbFyZ6ySgT"
      }
    },
    {
      "cell_type": "markdown",
      "source": [
        "**Step 1** : **create user p1**\n",
        "**step 2** :** He should be part of 3 groups g1,g2,g3.**\n",
        "**step 3 **: **whenever he create a file automatically in the group section of file grp g1 should come**\n",
        "\n",
        "```\n",
        "#creating user with name p1\n",
        "sudo useradd p1\n",
        "```\n",
        "\n",
        "\n"
      ],
      "metadata": {
        "id": "vRmT5XQk5p4p"
      }
    },
    {
      "cell_type": "markdown",
      "source": [
        "step 2 :user p1 should be the part of g1,g2,g3"
      ],
      "metadata": {
        "id": "HPb4jxaEAh1M"
      }
    },
    {
      "cell_type": "code",
      "source": [
        "sudo groupadd g1\n",
        "sudo groupadd g2\n",
        "sudo groupadd g3\n",
        "sudo usermod -ag g1,g2,g3 p1"
      ],
      "metadata": {
        "id": "y7orAQhUAwdd"
      },
      "execution_count": null,
      "outputs": []
    },
    {
      "cell_type": "markdown",
      "source": [
        "step 3 : whenever he create a file automatically in the group section of file grp g1 should come"
      ],
      "metadata": {
        "id": "cwl0r1PqAFHs"
      }
    },
    {
      "cell_type": "code",
      "source": [
        "sudo mkdir /home/p1\n",
        "sudo chown :g1 /home/p1\n",
        "sudo chmod g+s /home/p1\n",
        "ls -ld /home/p1\n"
      ],
      "metadata": {
        "id": "6ROMsfl4C6Ec"
      },
      "execution_count": null,
      "outputs": []
    },
    {
      "cell_type": "markdown",
      "source": [
        "Step1: Create directory /tmp/bg as root user and create files inside it.\n",
        "\n",
        " Step2: “abhi” should be the owner of the directory. He should be able to create files and delete files inside\n",
        "\n",
        " the directory and also he should be able to add content to all files inside the directory"
      ],
      "metadata": {
        "id": "8kRgpxeXPYK1"
      }
    },
    {
      "cell_type": "code",
      "source": [
        "#create directory /tmp/bg\n",
        "sudo -i\n",
        "mkdir -p/tmg/bg\n",
        "\n",
        " #creating files inside it\n",
        " touch f1.txt\n",
        " touch f2.txt\n",
        "\n",
        "#Change the ownership of the directory and its contents to the user \"abhi\":\n",
        "chown -R abhi:abhi /tmp/bg\n",
        "\n",
        "#Set the permissions to ensure \"abhi\" can create, delete, and edit files:\n",
        "chmod -r 700 /tmp/bg\n"
      ],
      "metadata": {
        "id": "Brj022UYP21M"
      },
      "execution_count": null,
      "outputs": []
    },
    {
      "cell_type": "markdown",
      "source": [
        "You suspect that a particular process is consuming excessive CPU resources on\n",
        "your Linux server. How would you identify and terminal this process?\n",
        "\n",
        "\n"
      ],
      "metadata": {
        "id": "JhYW7-M2SCub"
      }
    },
    {
      "cell_type": "code",
      "source": [
        "#use the command htop to check information about all processes\n",
        "htop\n",
        "\n",
        "#This will display the top 10 processes consuming the most CPU\n",
        " ps aux --sort=-%cpu | head -n 10\n",
        "\n",
        " #note the process id and kill that process\n",
        " kill <pid>\n"
      ],
      "metadata": {
        "id": "ckM_-tM6TRG8"
      },
      "execution_count": null,
      "outputs": []
    }
  ]
}